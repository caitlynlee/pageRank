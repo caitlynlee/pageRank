{
 "cells": [
  {
   "cell_type": "code",
   "execution_count": 2,
   "metadata": {},
   "outputs": [],
   "source": [
    "%load_ext autoreload"
   ]
  },
  {
   "cell_type": "code",
   "execution_count": 3,
   "metadata": {},
   "outputs": [],
   "source": [
    "%autoreload 2"
   ]
  },
  {
   "cell_type": "code",
   "execution_count": 4,
   "metadata": {},
   "outputs": [],
   "source": [
    "from ConversationGraph import *\n",
    "from pageRank import *"
   ]
  },
  {
   "cell_type": "code",
   "execution_count": 5,
   "metadata": {},
   "outputs": [],
   "source": [
    "datapath = '/Users/caitlyn/git/pageRank/DATA/cleanData.csv'"
   ]
  },
  {
   "cell_type": "code",
   "execution_count": 6,
   "metadata": {},
   "outputs": [],
   "source": [
    "graph = ConversationGraph()"
   ]
  },
  {
   "cell_type": "markdown",
   "metadata": {},
   "source": [
    "### Nice printing"
   ]
  },
  {
   "cell_type": "code",
   "execution_count": 33,
   "metadata": {},
   "outputs": [],
   "source": [
    "def printComparison(pageRankResults, averageResults, verbose=True):\n",
    "    if verbose:\n",
    "        print '{0:30}  {1}'.format('PageRank', 'Average')\n",
    "    else: \n",
    "        print '{0:5}  {1}'.format('PageRank', 'Average')\n",
    "    for i in range(len(pageRankResults)):\n",
    "        if verbose:\n",
    "            print '{0:30}  {1}'.format((pageRankResults[i][0], float(pageRankResults[i][1])), \n",
    "                                       (averageResults[i][0], float(averageResults[i][1])))\n",
    "        else: \n",
    "            print '{0:8}  {1}'.format(pageRankResults[i][0], averageResults[i][0])"
   ]
  },
  {
   "cell_type": "code",
   "execution_count": 34,
   "metadata": {},
   "outputs": [],
   "source": [
    "verbose = False\n",
    "subs = [x for x in range(1, 12)]"
   ]
  },
  {
   "cell_type": "markdown",
   "metadata": {},
   "source": [
    "## Conversation Flow"
   ]
  },
  {
   "cell_type": "code",
   "execution_count": 36,
   "metadata": {},
   "outputs": [
    {
     "name": "stdout",
     "output_type": "stream",
     "text": [
      "PageRank                        Average\n",
      "(1, 0.1013197142614164)         (1, 79.9090909090909)\n",
      "(8, 0.09965901018174209)        (8, 78.9090909090909)\n",
      "(2, 0.09572531994120773)        (2, 76.18181818181819)\n",
      "(11, 0.09084835001178844)       (6, 72.45454545454545)\n",
      "(6, 0.08971554903016006)        (10, 71.9090909090909)\n",
      "(7, 0.08913706349299032)        (9, 70.0)\n",
      "(10, 0.08858578669890067)       (7, 69.54545454545455)\n",
      "(4, 0.08805245678884348)        (11, 69.27272727272727)\n",
      "(9, 0.087772439221306)          (4, 69.0909090909091)\n",
      "(5, 0.08612307135108994)        (5, 66.81818181818181)\n",
      "(3, 0.08306123902055493)        (3, 66.27272727272727)\n"
     ]
    }
   ],
   "source": [
    "## Pagerank\n",
    "graph.loadGraphfromCSV2(datapath, startingID=1, attrCol=2)\n",
    "graph.getStochasticGraph()\n",
    "resultsPR = pageRank(graph.stochMat)\n",
    "if verbose: print resultsPR\n",
    "a = sorted(zip(subs, resultsPR), key=lambda x: x[1], reverse=True)\n",
    "\n",
    "## Avg\n",
    "resultsMean = np.mean(graph.mat, axis=1)\n",
    "if verbose: print resultsMean\n",
    "b = sorted(zip(subs, resultsMean), key=lambda x: x[1], reverse=True)\n",
    "\n",
    "## Printing\n",
    "printComparison(a, b)"
   ]
  },
  {
   "cell_type": "markdown",
   "metadata": {},
   "source": [
    "## Enjoy conversation"
   ]
  },
  {
   "cell_type": "code",
   "execution_count": 37,
   "metadata": {},
   "outputs": [
    {
     "name": "stdout",
     "output_type": "stream",
     "text": [
      "PageRank                        Average\n",
      "(8, 0.10200910662840944)        (8, 79.18181818181819)\n",
      "(1, 0.10041377000533702)        (1, 77.72727272727273)\n",
      "(5, 0.09466823767502248)        (2, 73.0)\n",
      "(2, 0.09380316241144443)        (10, 72.54545454545455)\n",
      "(10, 0.09298640606943584)       (5, 71.36363636363636)\n",
      "(6, 0.08939553856405615)        (6, 70.45454545454545)\n",
      "(9, 0.08823388835008839)        (7, 68.0909090909091)\n",
      "(7, 0.08814261084626031)        (9, 67.81818181818181)\n",
      "(4, 0.0867138630254402)         (4, 66.9090909090909)\n",
      "(11, 0.08462556906987792)       (11, 62.27272727272727)\n",
      "(3, 0.07900784735462787)        (3, 60.90909090909091)\n"
     ]
    }
   ],
   "source": [
    "## Pagerank\n",
    "graph.loadGraphfromCSV2(datapath, startingID=1, attrCol=3)\n",
    "graph.getStochasticGraph()\n",
    "resultsPR = pageRank(graph.stochMat)\n",
    "if verbose: print resultsPR\n",
    "a = sorted(zip(subs, resultsPR), key=lambda x: x[1], reverse=True)\n",
    "\n",
    "## Avg\n",
    "resultsMean = np.mean(graph.mat, axis=1)\n",
    "if verbose: print resultsMean\n",
    "b = sorted(zip(subs, resultsMean), key=lambda x: x[1], reverse=True)\n",
    "\n",
    "## Printing\n",
    "printComparison(a, b)"
   ]
  },
  {
   "cell_type": "markdown",
   "metadata": {},
   "source": [
    "## Friends"
   ]
  },
  {
   "cell_type": "code",
   "execution_count": 38,
   "metadata": {},
   "outputs": [
    {
     "name": "stdout",
     "output_type": "stream",
     "text": [
      "PageRank                        Average\n",
      "(1, 0.10607009643142408)        (1, 72.9090909090909)\n",
      "(8, 0.10088977611815475)        (8, 70.9090909090909)\n",
      "(2, 0.10008752171290324)        (2, 70.18181818181819)\n",
      "(10, 0.0992569138372291)        (10, 68.72727272727273)\n",
      "(7, 0.09837618812878962)        (7, 67.18181818181819)\n",
      "(5, 0.09459876187037088)        (5, 64.72727272727273)\n",
      "(9, 0.09014690523346795)        (9, 61.27272727272727)\n",
      "(3, 0.08424155795566692)        (3, 57.90909090909091)\n",
      "(4, 0.08000509479470441)        (4, 56.0)\n",
      "(11, 0.07342073217261554)       (6, 53.0)\n",
      "(6, 0.07290645174467356)        (11, 49.54545454545455)\n"
     ]
    }
   ],
   "source": [
    "## Pagerank\n",
    "graph.loadGraphfromCSV2(datapath, startingID=1, attrCol=4)\n",
    "graph.getStochasticGraph()\n",
    "resultsPR = pageRank(graph.stochMat)\n",
    "if verbose: print resultsPR\n",
    "a = sorted(zip(subs, resultsPR), key=lambda x: x[1], reverse=True)\n",
    "\n",
    "## Avg\n",
    "resultsMean = np.mean(graph.mat, axis=1)\n",
    "if verbose: print resultsMean\n",
    "b = sorted(zip(subs, resultsMean), key=lambda x: x[1], reverse=True)\n",
    "\n",
    "## Printing\n",
    "printComparison(a, b)"
   ]
  },
  {
   "cell_type": "markdown",
   "metadata": {},
   "source": [
    "## Fun"
   ]
  },
  {
   "cell_type": "code",
   "execution_count": 39,
   "metadata": {},
   "outputs": [
    {
     "name": "stdout",
     "output_type": "stream",
     "text": [
      "PageRank                        Average\n",
      "(2, 0.10277098505078767)        (2, 73.36363636363636)\n",
      "(1, 0.10160180889613797)        (1, 72.45454545454545)\n",
      "(7, 0.09715289622451678)        (7, 68.0)\n",
      "(8, 0.09538479665399817)        (8, 65.81818181818181)\n",
      "(5, 0.09411333910340883)        (5, 64.72727272727273)\n",
      "(10, 0.09170723696284996)       (9, 63.72727272727273)\n",
      "(9, 0.09009971982161823)        (10, 63.63636363636363)\n",
      "(11, 0.08448937625430959)       (3, 59.27272727272727)\n",
      "(3, 0.08381174016344205)        (11, 56.54545454545455)\n",
      "(4, 0.08105022171533711)        (4, 55.54545454545455)\n",
      "(6, 0.07781787915359364)        (6, 54.45454545454545)\n"
     ]
    }
   ],
   "source": [
    "## Pagerank\n",
    "graph.loadGraphfromCSV2(datapath, startingID=1, attrCol=5)\n",
    "graph.getStochasticGraph()\n",
    "resultsPR = pageRank(graph.stochMat)\n",
    "if verbose: print resultsPR\n",
    "a = sorted(zip(subs, resultsPR), key=lambda x: x[1], reverse=True)\n",
    "\n",
    "## Avg\n",
    "resultsMean = np.mean(graph.mat, axis=1)\n",
    "if verbose: print resultsMean\n",
    "b = sorted(zip(subs, resultsMean), key=lambda x: x[1], reverse=True)\n",
    "\n",
    "## Printing\n",
    "printComparison(a, b)"
   ]
  },
  {
   "cell_type": "markdown",
   "metadata": {},
   "source": [
    "## Comfortable"
   ]
  },
  {
   "cell_type": "code",
   "execution_count": 40,
   "metadata": {},
   "outputs": [
    {
     "name": "stdout",
     "output_type": "stream",
     "text": [
      "PageRank                        Average\n",
      "(8, 0.09897547130359918)        (8, 78.63636363636364)\n",
      "(1, 0.09629276810546455)        (1, 77.27272727272727)\n",
      "(7, 0.09606542977850394)        (2, 76.63636363636364)\n",
      "(2, 0.09442382290793178)        (9, 74.63636363636364)\n",
      "(9, 0.09404127484911927)        (7, 73.0909090909091)\n",
      "(4, 0.09258039879910428)        (4, 72.27272727272727)\n",
      "(10, 0.08862018398162909)       (10, 72.18181818181819)\n",
      "(5, 0.08787035362184643)        (5, 68.72727272727273)\n",
      "(11, 0.08613476565395131)       (3, 66.54545454545455)\n",
      "(6, 0.08264400545273555)        (11, 65.45454545454545)\n",
      "(3, 0.08235152554611465)        (6, 64.81818181818181)\n"
     ]
    }
   ],
   "source": [
    "## Pagerank\n",
    "graph.loadGraphfromCSV2(datapath, startingID=1, attrCol=6)\n",
    "graph.getStochasticGraph()\n",
    "resultsPR = pageRank(graph.stochMat)\n",
    "if verbose: print resultsPR\n",
    "a = sorted(zip(subs, resultsPR), key=lambda x: x[1], reverse=True)\n",
    "\n",
    "## Avg\n",
    "resultsMean = np.mean(graph.mat, axis=1)\n",
    "if verbose: print resultsMean\n",
    "b = sorted(zip(subs, resultsMean), key=lambda x: x[1], reverse=True)\n",
    "\n",
    "## Printing\n",
    "printComparison(a, b)"
   ]
  },
  {
   "cell_type": "markdown",
   "metadata": {},
   "source": [
    "## Conversation PC1"
   ]
  },
  {
   "cell_type": "code",
   "execution_count": 41,
   "metadata": {},
   "outputs": [
    {
     "name": "stdout",
     "output_type": "stream",
     "text": [
      "PageRank                        Average\n",
      "(1, 1.1409936083762282e+23)     (1, 0.5785671019090909)\n",
      "(7, 7.884569236847868e+22)      (2, 0.4213317989090909)\n",
      "(8, 7.022369120367343e+22)      (8, 0.34253448536363634)\n",
      "(10, 5.924204006098189e+22)     (10, 0.30866696545454547)\n",
      "(9, 3.541051616965012e+22)      (7, 0.134532077)\n",
      "(3, 1.6365664378552507e+22)     (5, 0.05539960109090909)\n",
      "(2, 6.845815251037319e+21)      (9, -0.022462591)\n",
      "(11, -4.999763434046675e+22)    (3, -0.07922300418181819)\n",
      "(4, -9.92768941412242e+22)      (4, -0.14973765972727274)\n",
      "(6, -1.123016679569855e+23)     (11, -0.21122447227272728)\n",
      "(5, -1.1945658383132034e+23)    (6, -0.25185731345454543)\n"
     ]
    }
   ],
   "source": [
    "## Pagerank\n",
    "graph.loadGraphfromCSV2(datapath, startingID=1, attrCol=7)\n",
    "graph.getStochasticGraph()\n",
    "resultsPR = pageRank(graph.stochMat, stop=50)\n",
    "if verbose: print resultsPR\n",
    "a = sorted(zip(subs, resultsPR), key=lambda x: x[1], reverse=True)\n",
    "\n",
    "## Avg\n",
    "resultsMean = np.mean(graph.mat, axis=1)\n",
    "if verbose: print resultsMean\n",
    "b = sorted(zip(subs, resultsMean), key=lambda x: x[1], reverse=True)\n",
    "\n",
    "## Printing\n",
    "printComparison(a, b)"
   ]
  },
  {
   "cell_type": "code",
   "execution_count": null,
   "metadata": {},
   "outputs": [],
   "source": []
  }
 ],
 "metadata": {
  "kernelspec": {
   "display_name": "Python 2",
   "language": "python",
   "name": "python2"
  },
  "language_info": {
   "codemirror_mode": {
    "name": "ipython",
    "version": 2
   },
   "file_extension": ".py",
   "mimetype": "text/x-python",
   "name": "python",
   "nbconvert_exporter": "python",
   "pygments_lexer": "ipython2",
   "version": "2.7.13"
  }
 },
 "nbformat": 4,
 "nbformat_minor": 2
}

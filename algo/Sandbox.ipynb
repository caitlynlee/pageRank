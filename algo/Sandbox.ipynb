{
 "cells": [
  {
   "cell_type": "code",
   "execution_count": 1,
   "metadata": {},
   "outputs": [],
   "source": [
    "%load_ext autoreload"
   ]
  },
  {
   "cell_type": "code",
   "execution_count": 2,
   "metadata": {},
   "outputs": [],
   "source": [
    "%autoreload 2"
   ]
  },
  {
   "cell_type": "code",
   "execution_count": 3,
   "metadata": {},
   "outputs": [],
   "source": [
    "from ConversationGraph import *\n",
    "from pageRank import *"
   ]
  },
  {
   "cell_type": "code",
   "execution_count": 4,
   "metadata": {},
   "outputs": [],
   "source": [
    "datapath = '/Users/caitlyn/git/pageRank/DATA/cleanData.csv'"
   ]
  },
  {
   "cell_type": "code",
   "execution_count": 5,
   "metadata": {},
   "outputs": [],
   "source": [
    "graph = ConversationGraph()"
   ]
  },
  {
   "cell_type": "markdown",
   "metadata": {},
   "source": [
    "### Nice printing"
   ]
  },
  {
   "cell_type": "code",
   "execution_count": 6,
   "metadata": {},
   "outputs": [],
   "source": [
    "def printComparison(pageRankResults, averageResults):\n",
    "    print '{0:30}  {1}'.format('PageRank', 'Average')\n",
    "    for i in range(len(pageRankResults)):\n",
    "        print '{0:30}  {1}'.format(pageRankResults[i], averageResults[i])"
   ]
  },
  {
   "cell_type": "code",
   "execution_count": 7,
   "metadata": {},
   "outputs": [],
   "source": [
    "verbose = False\n",
    "subs = [x for x in range(1, 12)]"
   ]
  },
  {
   "cell_type": "markdown",
   "metadata": {},
   "source": [
    "## Conversation Flow"
   ]
  },
  {
   "cell_type": "code",
   "execution_count": 8,
   "metadata": {},
   "outputs": [
    {
     "name": "stdout",
     "output_type": "stream",
     "text": [
      "PageRank                        Average\n",
      "(1, 0.1013197142614164)         (1, 79.9090909090909)\n",
      "(8, 0.09965901018174209)        (8, 78.9090909090909)\n",
      "(2, 0.09572531994120771)        (2, 76.18181818181819)\n",
      "(11, 0.09084835001178843)       (6, 72.45454545454545)\n",
      "(6, 0.08971554903016006)        (10, 71.9090909090909)\n",
      "(7, 0.08913706349299032)        (9, 70.0)\n",
      "(10, 0.08858578669890067)       (7, 69.54545454545455)\n",
      "(4, 0.08805245678884348)        (11, 69.27272727272727)\n",
      "(9, 0.087772439221306)          (4, 69.0909090909091)\n",
      "(5, 0.08612307135108993)        (5, 66.81818181818181)\n",
      "(3, 0.08306123902055491)        (3, 66.27272727272727)\n"
     ]
    }
   ],
   "source": [
    "## Pagerank\n",
    "graph.loadGraphfromCSV2(datapath, startingID=1, attrCol=2)\n",
    "graph.getStochasticGraph()\n",
    "resultsPR = pageRank(graph.stochMat)\n",
    "if verbose: print resultsPR\n",
    "a = sorted(zip(subs, resultsPR), key=lambda x: x[1], reverse=True)\n",
    "\n",
    "## Avg\n",
    "resultsMean = np.mean(graph.mat, axis=1)\n",
    "if verbose: print resultsMean\n",
    "b = sorted(zip(subs, resultsMean), key=lambda x: x[1], reverse=True)\n",
    "\n",
    "## Printing\n",
    "printComparison(a, b)"
   ]
  },
  {
   "cell_type": "markdown",
   "metadata": {},
   "source": [
    "## Enjoy conversation"
   ]
  },
  {
   "cell_type": "code",
   "execution_count": 10,
   "metadata": {},
   "outputs": [
    {
     "name": "stdout",
     "output_type": "stream",
     "text": [
      "PageRank                        Average\n",
      "(8, 0.10200910662840938)        (8, 79.18181818181819)\n",
      "(1, 0.10041377000533697)        (1, 77.72727272727273)\n",
      "(5, 0.09466823767502242)        (2, 73.0)\n",
      "(2, 0.09380316241144436)        (10, 72.54545454545455)\n",
      "(10, 0.09298640606943578)       (5, 71.36363636363636)\n",
      "(6, 0.08939553856405608)        (6, 70.45454545454545)\n",
      "(9, 0.08823388835008833)        (7, 68.0909090909091)\n",
      "(7, 0.08814261084626027)        (9, 67.81818181818181)\n",
      "(4, 0.08671386302544014)        (4, 66.9090909090909)\n",
      "(11, 0.08462556906987785)       (11, 62.27272727272727)\n",
      "(3, 0.07900784735462783)        (3, 60.90909090909091)\n"
     ]
    }
   ],
   "source": [
    "## Pagerank\n",
    "graph.loadGraphfromCSV2(datapath, startingID=1, attrCol=3)\n",
    "graph.getStochasticGraph()\n",
    "resultsPR = pageRank(graph.stochMat)\n",
    "if verbose: print resultsPR\n",
    "a = sorted(zip(subs, resultsPR), key=lambda x: x[1], reverse=True)\n",
    "\n",
    "## Avg\n",
    "resultsMean = np.mean(graph.mat, axis=1)\n",
    "if verbose: print resultsMean\n",
    "b = sorted(zip(subs, resultsMean), key=lambda x: x[1], reverse=True)\n",
    "\n",
    "## Printing\n",
    "printComparison(a, b)"
   ]
  },
  {
   "cell_type": "markdown",
   "metadata": {},
   "source": [
    "## Friends"
   ]
  },
  {
   "cell_type": "code",
   "execution_count": 11,
   "metadata": {},
   "outputs": [
    {
     "name": "stdout",
     "output_type": "stream",
     "text": [
      "PageRank                        Average\n",
      "(1, 0.10607009643142407)        (1, 72.9090909090909)\n",
      "(8, 0.10088977611815476)        (8, 70.9090909090909)\n",
      "(2, 0.10008752171290325)        (2, 70.18181818181819)\n",
      "(10, 0.0992569138372291)        (10, 68.72727272727273)\n",
      "(7, 0.09837618812878964)        (7, 67.18181818181819)\n",
      "(5, 0.09459876187037088)        (5, 64.72727272727273)\n",
      "(9, 0.09014690523346795)        (9, 61.27272727272727)\n",
      "(3, 0.08424155795566692)        (3, 57.90909090909091)\n",
      "(4, 0.08000509479470441)        (4, 56.0)\n",
      "(11, 0.07342073217261554)       (6, 53.0)\n",
      "(6, 0.07290645174467356)        (11, 49.54545454545455)\n"
     ]
    }
   ],
   "source": [
    "## Pagerank\n",
    "graph.loadGraphfromCSV2(datapath, startingID=1, attrCol=4)\n",
    "graph.getStochasticGraph()\n",
    "resultsPR = pageRank(graph.stochMat)\n",
    "if verbose: print resultsPR\n",
    "a = sorted(zip(subs, resultsPR), key=lambda x: x[1], reverse=True)\n",
    "\n",
    "## Avg\n",
    "resultsMean = np.mean(graph.mat, axis=1)\n",
    "if verbose: print resultsMean\n",
    "b = sorted(zip(subs, resultsMean), key=lambda x: x[1], reverse=True)\n",
    "\n",
    "## Printing\n",
    "printComparison(a, b)"
   ]
  },
  {
   "cell_type": "markdown",
   "metadata": {},
   "source": [
    "## Fun"
   ]
  },
  {
   "cell_type": "code",
   "execution_count": 12,
   "metadata": {},
   "outputs": [
    {
     "name": "stdout",
     "output_type": "stream",
     "text": [
      "PageRank                        Average\n",
      "(2, 0.10277098505078773)        (2, 73.36363636363636)\n",
      "(1, 0.10160180889613804)        (1, 72.45454545454545)\n",
      "(7, 0.09715289622451684)        (7, 68.0)\n",
      "(8, 0.09538479665399821)        (8, 65.81818181818181)\n",
      "(5, 0.09411333910340887)        (5, 64.72727272727273)\n",
      "(10, 0.09170723696285)          (9, 63.72727272727273)\n",
      "(9, 0.09009971982161828)        (10, 63.63636363636363)\n",
      "(11, 0.08448937625430963)       (3, 59.27272727272727)\n",
      "(3, 0.08381174016344209)        (11, 56.54545454545455)\n",
      "(4, 0.08105022171533717)        (4, 55.54545454545455)\n",
      "(6, 0.07781787915359369)        (6, 54.45454545454545)\n"
     ]
    }
   ],
   "source": [
    "## Pagerank\n",
    "graph.loadGraphfromCSV2(datapath, startingID=1, attrCol=5)\n",
    "graph.getStochasticGraph()\n",
    "resultsPR = pageRank(graph.stochMat)\n",
    "if verbose: print resultsPR\n",
    "a = sorted(zip(subs, resultsPR), key=lambda x: x[1], reverse=True)\n",
    "\n",
    "## Avg\n",
    "resultsMean = np.mean(graph.mat, axis=1)\n",
    "if verbose: print resultsMean\n",
    "b = sorted(zip(subs, resultsMean), key=lambda x: x[1], reverse=True)\n",
    "\n",
    "## Printing\n",
    "printComparison(a, b)"
   ]
  },
  {
   "cell_type": "markdown",
   "metadata": {},
   "source": [
    "## Comfortable"
   ]
  },
  {
   "cell_type": "code",
   "execution_count": 13,
   "metadata": {},
   "outputs": [
    {
     "name": "stdout",
     "output_type": "stream",
     "text": [
      "PageRank                        Average\n",
      "(8, 0.09897547130359916)        (8, 78.63636363636364)\n",
      "(1, 0.09629276810546453)        (1, 77.27272727272727)\n",
      "(7, 0.0960654297785039)         (2, 76.63636363636364)\n",
      "(2, 0.09442382290793175)        (9, 74.63636363636364)\n",
      "(9, 0.09404127484911923)        (7, 73.0909090909091)\n",
      "(4, 0.09258039879910425)        (4, 72.27272727272727)\n",
      "(10, 0.08862018398162906)       (10, 72.18181818181819)\n",
      "(5, 0.0878703536218464)         (5, 68.72727272727273)\n",
      "(11, 0.08613476565395128)       (3, 66.54545454545455)\n",
      "(6, 0.08264400545273551)        (11, 65.45454545454545)\n",
      "(3, 0.08235152554611463)        (6, 64.81818181818181)\n"
     ]
    }
   ],
   "source": [
    "## Pagerank\n",
    "graph.loadGraphfromCSV2(datapath, startingID=1, attrCol=6)\n",
    "graph.getStochasticGraph()\n",
    "resultsPR = pageRank(graph.stochMat)\n",
    "if verbose: print resultsPR\n",
    "a = sorted(zip(subs, resultsPR), key=lambda x: x[1], reverse=True)\n",
    "\n",
    "## Avg\n",
    "resultsMean = np.mean(graph.mat, axis=1)\n",
    "if verbose: print resultsMean\n",
    "b = sorted(zip(subs, resultsMean), key=lambda x: x[1], reverse=True)\n",
    "\n",
    "## Printing\n",
    "printComparison(a, b)"
   ]
  },
  {
   "cell_type": "markdown",
   "metadata": {},
   "source": [
    "## Conversation PC1"
   ]
  },
  {
   "cell_type": "code",
   "execution_count": 13,
   "metadata": {},
   "outputs": [
    {
     "name": "stdout",
     "output_type": "stream",
     "text": [
      "PageRank                        Average\n",
      "(8, 0.09897547130359916)        (8, 78.63636363636364)\n",
      "(1, 0.09629276810546453)        (1, 77.27272727272727)\n",
      "(7, 0.0960654297785039)         (2, 76.63636363636364)\n",
      "(2, 0.09442382290793175)        (9, 74.63636363636364)\n",
      "(9, 0.09404127484911923)        (7, 73.0909090909091)\n",
      "(4, 0.09258039879910425)        (4, 72.27272727272727)\n",
      "(10, 0.08862018398162906)       (10, 72.18181818181819)\n",
      "(5, 0.0878703536218464)         (5, 68.72727272727273)\n",
      "(11, 0.08613476565395128)       (3, 66.54545454545455)\n",
      "(6, 0.08264400545273551)        (11, 65.45454545454545)\n",
      "(3, 0.08235152554611463)        (6, 64.81818181818181)\n"
     ]
    }
   ],
   "source": [
    "## Pagerank\n",
    "graph.loadGraphfromCSV2(datapath, startingID=1, attrCol=6)\n",
    "graph.getStochasticGraph()\n",
    "resultsPR = pageRank(graph.stochMat)\n",
    "if verbose: print resultsPR\n",
    "a = sorted(zip(subs, resultsPR), key=lambda x: x[1], reverse=True)\n",
    "\n",
    "## Avg\n",
    "resultsMean = np.mean(graph.mat, axis=1)\n",
    "if verbose: print resultsMean\n",
    "b = sorted(zip(subs, resultsMean), key=lambda x: x[1], reverse=True)\n",
    "\n",
    "## Printing\n",
    "printComparison(a, b)"
   ]
  }
 ],
 "metadata": {
  "kernelspec": {
   "display_name": "Python 2",
   "language": "python",
   "name": "python2"
  },
  "language_info": {
   "codemirror_mode": {
    "name": "ipython",
    "version": 2
   },
   "file_extension": ".py",
   "mimetype": "text/x-python",
   "name": "python",
   "nbconvert_exporter": "python",
   "pygments_lexer": "ipython2",
   "version": "2.7.13"
  }
 },
 "nbformat": 4,
 "nbformat_minor": 2
}

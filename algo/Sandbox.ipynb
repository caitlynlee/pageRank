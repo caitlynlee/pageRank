{
 "cells": [
  {
   "cell_type": "code",
   "execution_count": 1,
   "metadata": {},
   "outputs": [],
   "source": [
    "%load_ext autoreload"
   ]
  },
  {
   "cell_type": "code",
   "execution_count": 2,
   "metadata": {},
   "outputs": [],
   "source": [
    "%autoreload 2"
   ]
  },
  {
   "cell_type": "code",
   "execution_count": 3,
   "metadata": {},
   "outputs": [],
   "source": [
    "from ConversationGraph import *\n",
    "from pageRank import *"
   ]
  },
  {
   "cell_type": "code",
   "execution_count": 4,
   "metadata": {},
   "outputs": [],
   "source": [
    "datapath = '/Users/caitlyn/git/pageRank/DATA/cleanData.csv'"
   ]
  },
  {
   "cell_type": "code",
   "execution_count": 5,
   "metadata": {},
   "outputs": [],
   "source": [
    "graph = ConversationGraph()"
   ]
  },
  {
   "cell_type": "markdown",
   "metadata": {},
   "source": [
    "## Conversation Flow"
   ]
  },
  {
   "cell_type": "code",
   "execution_count": 48,
   "metadata": {},
   "outputs": [],
   "source": [
    "graph.loadGraphfromCSV2(datapath, startingID=1, attrCol=2)"
   ]
  },
  {
   "cell_type": "code",
   "execution_count": 49,
   "metadata": {},
   "outputs": [],
   "source": [
    "graph.getStochasticGraph()"
   ]
  },
  {
   "cell_type": "code",
   "execution_count": 50,
   "metadata": {
    "scrolled": false
   },
   "outputs": [],
   "source": [
    "resultsPR = pageRank(graph.stochMat)"
   ]
  },
  {
   "cell_type": "code",
   "execution_count": 51,
   "metadata": {},
   "outputs": [
    {
     "data": {
      "text/plain": [
       "array([0.10054495, 0.08189863, 0.07757351, 0.09820272, 0.09500472,\n",
       "       0.07378378, 0.10602302, 0.09532165, 0.08577097, 0.0804631 ,\n",
       "       0.10541295])"
      ]
     },
     "execution_count": 51,
     "metadata": {},
     "output_type": "execute_result"
    }
   ],
   "source": [
    "resultsPR"
   ]
  },
  {
   "cell_type": "code",
   "execution_count": 52,
   "metadata": {},
   "outputs": [],
   "source": [
    "subs = [x for x in range(1, 12)]"
   ]
  },
  {
   "cell_type": "code",
   "execution_count": 53,
   "metadata": {},
   "outputs": [
    {
     "data": {
      "text/plain": [
       "[(7, 0.10602301944551212),\n",
       " (11, 0.10541295179519833),\n",
       " (1, 0.1005449472575115),\n",
       " (4, 0.09820272053922213),\n",
       " (8, 0.09532164538332992),\n",
       " (5, 0.09500471978259128),\n",
       " (9, 0.08577097197976974),\n",
       " (2, 0.08189863154691797),\n",
       " (10, 0.08046309955771244),\n",
       " (3, 0.07757351362167661),\n",
       " (6, 0.07378377909055779)]"
      ]
     },
     "execution_count": 53,
     "metadata": {},
     "output_type": "execute_result"
    }
   ],
   "source": [
    "sorted(zip(subs, resultsPR), key=lambda x: x[1], reverse=True)"
   ]
  },
  {
   "cell_type": "markdown",
   "metadata": {},
   "source": [
    "**Comparing to average**"
   ]
  },
  {
   "cell_type": "code",
   "execution_count": 54,
   "metadata": {},
   "outputs": [],
   "source": [
    "resultsMean = np.mean(graph.mat, axis=0)"
   ]
  },
  {
   "cell_type": "code",
   "execution_count": 55,
   "metadata": {},
   "outputs": [
    {
     "data": {
      "text/plain": [
       "array([79.90909091, 76.18181818, 66.27272727, 69.09090909, 66.81818182,\n",
       "       72.45454545, 69.54545455, 78.90909091, 70.        , 71.90909091,\n",
       "       69.27272727])"
      ]
     },
     "execution_count": 55,
     "metadata": {},
     "output_type": "execute_result"
    }
   ],
   "source": [
    "resultsMean"
   ]
  },
  {
   "cell_type": "code",
   "execution_count": 56,
   "metadata": {},
   "outputs": [
    {
     "data": {
      "text/plain": [
       "[(1, 79.9090909090909),\n",
       " (8, 78.9090909090909),\n",
       " (2, 76.18181818181819),\n",
       " (6, 72.45454545454545),\n",
       " (10, 71.9090909090909),\n",
       " (9, 70.0),\n",
       " (7, 69.54545454545455),\n",
       " (11, 69.27272727272727),\n",
       " (4, 69.0909090909091),\n",
       " (5, 66.81818181818181),\n",
       " (3, 66.27272727272727)]"
      ]
     },
     "execution_count": 56,
     "metadata": {},
     "output_type": "execute_result"
    }
   ],
   "source": [
    "sorted(zip(subs, resultsMean), key=lambda x: x[1], reverse=True)"
   ]
  },
  {
   "cell_type": "code",
   "execution_count": null,
   "metadata": {},
   "outputs": [],
   "source": []
  }
 ],
 "metadata": {
  "kernelspec": {
   "display_name": "Python 2",
   "language": "python",
   "name": "python2"
  },
  "language_info": {
   "codemirror_mode": {
    "name": "ipython",
    "version": 2
   },
   "file_extension": ".py",
   "mimetype": "text/x-python",
   "name": "python",
   "nbconvert_exporter": "python",
   "pygments_lexer": "ipython2",
   "version": "2.7.13"
  }
 },
 "nbformat": 4,
 "nbformat_minor": 2
}
